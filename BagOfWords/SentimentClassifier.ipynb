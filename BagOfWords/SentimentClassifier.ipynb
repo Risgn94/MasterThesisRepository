{
 "cells": [
  {
   "cell_type": "code",
   "execution_count": 149,
   "metadata": {
    "collapsed": true
   },
   "outputs": [],
   "source": [
    "import pandas as pd\n",
    "from nltk.sentiment.vader import SentimentIntensityAnalyzer\n",
    "from nltk.sentiment.sentiment_analyzer import SentimentAnalyzer\n",
    "import matplotlib.pyplot as plt\n",
    "import nltk"
   ]
  },
  {
   "cell_type": "code",
   "execution_count": 151,
   "metadata": {},
   "outputs": [],
   "source": [
    "df = pd.read_excel(\"../Data/DataWithNominalPrice/NewNewSentimentData.xlsx\")"
   ]
  },
  {
   "cell_type": "code",
   "execution_count": 156,
   "metadata": {
    "collapsed": true
   },
   "outputs": [],
   "source": [
    "sid = SentimentIntensityAnalyzer()"
   ]
  },
  {
   "cell_type": "code",
   "execution_count": 163,
   "metadata": {},
   "outputs": [
    {
     "data": {
      "text/html": [
       "<div>\n",
       "<style>\n",
       "    .dataframe thead tr:only-child th {\n",
       "        text-align: right;\n",
       "    }\n",
       "\n",
       "    .dataframe thead th {\n",
       "        text-align: left;\n",
       "    }\n",
       "\n",
       "    .dataframe tbody tr th {\n",
       "        vertical-align: top;\n",
       "    }\n",
       "</style>\n",
       "<table border=\"1\" class=\"dataframe\">\n",
       "  <thead>\n",
       "    <tr style=\"text-align: right;\">\n",
       "      <th></th>\n",
       "      <th>Title</th>\n",
       "      <th>Content</th>\n",
       "      <th>PriceChange</th>\n",
       "      <th>ContentNoHTML</th>\n",
       "      <th>TitleNoHTML</th>\n",
       "      <th>TitleSentimentScore</th>\n",
       "      <th>ContentSentimentScore</th>\n",
       "      <th>ContentBins</th>\n",
       "    </tr>\n",
       "  </thead>\n",
       "  <tbody>\n",
       "    <tr>\n",
       "      <th>2</th>\n",
       "      <td>Wall Street's most in-demand jobs for 2016</td>\n",
       "      <td>&lt;!-- react-text: 385 --&gt;Job cuts and shrinking...</td>\n",
       "      <td>1.123700</td>\n",
       "      <td>Job cuts and shrinking bonuses dominated headl...</td>\n",
       "      <td>Wall Street's most in-demand jobs for 2016</td>\n",
       "      <td>0.0000</td>\n",
       "      <td>0.9914</td>\n",
       "      <td>Very Positive</td>\n",
       "    </tr>\n",
       "    <tr>\n",
       "      <th>4</th>\n",
       "      <td>Why Bitcoin Matters</td>\n",
       "      <td>The most epochal financial transaction of this...</td>\n",
       "      <td>0.897336</td>\n",
       "      <td>The most epochal financial transaction of this...</td>\n",
       "      <td>Why Bitcoin Matters</td>\n",
       "      <td>0.0258</td>\n",
       "      <td>0.9892</td>\n",
       "      <td>Very Positive</td>\n",
       "    </tr>\n",
       "    <tr>\n",
       "      <th>5</th>\n",
       "      <td>My 2016 Tech Predictions</td>\n",
       "      <td>I&amp;rsquo;ve been thinking about some of the coo...</td>\n",
       "      <td>0.897336</td>\n",
       "      <td>I’ve been thinking about some of the cool thin...</td>\n",
       "      <td>My 2016 Tech Predictions</td>\n",
       "      <td>0.0000</td>\n",
       "      <td>0.4767</td>\n",
       "      <td>Slightly Positive</td>\n",
       "    </tr>\n",
       "    <tr>\n",
       "      <th>7</th>\n",
       "      <td>Tech Trends of 2016</td>\n",
       "      <td>&lt;strong&gt;New Ways to Interact&lt;/strong&gt;&lt;br/&gt;One ...</td>\n",
       "      <td>-0.239863</td>\n",
       "      <td>New Ways to InteractOne of the best things abo...</td>\n",
       "      <td>Tech Trends of 2016</td>\n",
       "      <td>0.0000</td>\n",
       "      <td>0.9936</td>\n",
       "      <td>Very Positive</td>\n",
       "    </tr>\n",
       "    <tr>\n",
       "      <th>8</th>\n",
       "      <td>World's Largest Bitcoin Poker Freeroll to Acco...</td>\n",
       "      <td>&lt;span class=\"xn-location\" itemprop=\"contentLoc...</td>\n",
       "      <td>0.695038</td>\n",
       "      <td>HONG KONG, Jan. 4, 2016 /PRNewswire/ -- Today ...</td>\n",
       "      <td>World's Largest Bitcoin Poker Freeroll to Acco...</td>\n",
       "      <td>0.0000</td>\n",
       "      <td>0.9966</td>\n",
       "      <td>Very Positive</td>\n",
       "    </tr>\n",
       "  </tbody>\n",
       "</table>\n",
       "</div>"
      ],
      "text/plain": [
       "                                               Title  \\\n",
       "2        Wall Street's most in-demand jobs for 2016    \n",
       "4                               Why Bitcoin Matters    \n",
       "5                          My 2016 Tech Predictions    \n",
       "7                               Tech Trends of 2016    \n",
       "8  World's Largest Bitcoin Poker Freeroll to Acco...   \n",
       "\n",
       "                                             Content  PriceChange  \\\n",
       "2  <!-- react-text: 385 -->Job cuts and shrinking...     1.123700   \n",
       "4  The most epochal financial transaction of this...     0.897336   \n",
       "5  I&rsquo;ve been thinking about some of the coo...     0.897336   \n",
       "7  <strong>New Ways to Interact</strong><br/>One ...    -0.239863   \n",
       "8  <span class=\"xn-location\" itemprop=\"contentLoc...     0.695038   \n",
       "\n",
       "                                       ContentNoHTML  \\\n",
       "2  Job cuts and shrinking bonuses dominated headl...   \n",
       "4  The most epochal financial transaction of this...   \n",
       "5  I’ve been thinking about some of the cool thin...   \n",
       "7  New Ways to InteractOne of the best things abo...   \n",
       "8  HONG KONG, Jan. 4, 2016 /PRNewswire/ -- Today ...   \n",
       "\n",
       "                                         TitleNoHTML  TitleSentimentScore  \\\n",
       "2        Wall Street's most in-demand jobs for 2016                0.0000   \n",
       "4                               Why Bitcoin Matters                0.0258   \n",
       "5                          My 2016 Tech Predictions                0.0000   \n",
       "7                               Tech Trends of 2016                0.0000   \n",
       "8  World's Largest Bitcoin Poker Freeroll to Acco...               0.0000   \n",
       "\n",
       "   ContentSentimentScore        ContentBins  \n",
       "2                 0.9914      Very Positive  \n",
       "4                 0.9892      Very Positive  \n",
       "5                 0.4767  Slightly Positive  \n",
       "7                 0.9936      Very Positive  \n",
       "8                 0.9966      Very Positive  "
      ]
     },
     "execution_count": 163,
     "metadata": {},
     "output_type": "execute_result"
    }
   ],
   "source": [
    "df.head()"
   ]
  },
  {
   "cell_type": "code",
   "execution_count": 162,
   "metadata": {},
   "outputs": [],
   "source": [
    "df[\"ContentBins\"] = df[\"ContentSentimentScore\"].apply(sentimentMediumBins)"
   ]
  },
  {
   "cell_type": "code",
   "execution_count": 153,
   "metadata": {
    "collapsed": true
   },
   "outputs": [],
   "source": [
    "def getSentimentScore(row):\n",
    "    ss = sid.polarity_scores(row)\n",
    "    return ss[\"compound\"]"
   ]
  },
  {
   "cell_type": "code",
   "execution_count": 161,
   "metadata": {
    "collapsed": true
   },
   "outputs": [],
   "source": [
    "def sentimentSmallBins (sentiment):\n",
    "    if (sentiment > 0.6):\n",
    "        return \"Very Positive\"\n",
    "    elif (sentiment > 0.4 and sentiment < 0.6):\n",
    "        return \"Medium Positive\"\n",
    "    elif (sentiment > 0.2 and sentiment < 0.4):\n",
    "        return \"Slightly Positive\"\n",
    "    elif (sentiment < -0.6):\n",
    "        return \"Very Negative\"\n",
    "    elif (sentiment < -0.4 and sentiment > -0.6):\n",
    "        return \"Medium Negative\"\n",
    "    elif (sentiment < -0.2 and sentiment > -0.4):\n",
    "        return \"Slightly Negative\"\n",
    "    else:\n",
    "        return \"Neutral\"\n",
    "\n",
    "def sentimentMediumBins(sentiment):\n",
    "    if (sentiment > 0.5):\n",
    "        return \"Very Positive\"\n",
    "    elif (sentiment < -0.5):\n",
    "        return \"Very Negative\"\n",
    "    elif (sentiment > 0.2 and sentiment < 0.51):\n",
    "        return \"Slightly Positive\"\n",
    "    elif (sentiment < -0.2 and sentiment > -0.51):\n",
    "        return \"Slightly Negative\"\n",
    "    else:\n",
    "        return \"Neutral\"\n",
    "\n",
    "def sentimentChange(sentiment):\n",
    "    if (sentiment > 0.2):\n",
    "        return \"Positive\"\n",
    "    elif (sentiment < -0.2):\n",
    "        return \"Negative\"\n",
    "    else:\n",
    "        return \"Neutral\""
   ]
  },
  {
   "cell_type": "code",
   "execution_count": 166,
   "metadata": {},
   "outputs": [
    {
     "data": {
      "image/png": "[encoded data removed]",
      "text/plain": [
       "<matplotlib.figure.Figure at 0x123b121d0>"
      ]
     },
     "metadata": {},
     "output_type": "display_data"
    }
   ],
   "source": [
    "df.plot.scatter(\"TitleSentimentScore\", \"PriceChange\")\n",
    "plt.show()"
   ]
  },
  {
   "cell_type": "code",
   "execution_count": null,
   "metadata": {
    "collapsed": true
   },
   "outputs": [],
   "source": [
    "df[\"ContentScoreSmallLH\"] = df[\"Content\"].apply(simple_sentiment)"
   ]
  },
  {
   "cell_type": "code",
   "execution_count": null,
   "metadata": {
    "collapsed": true
   },
   "outputs": [],
   "source": [
    "df.head()"
   ]
  },
  {
   "cell_type": "code",
   "execution_count": 46,
   "metadata": {
    "collapsed": true
   },
   "outputs": [],
   "source": [
    "from sklearn.preprocessing import LabelEncoder\n",
    "label_encoder = LabelEncoder()\n",
    "X_encoded = label_encoder.fit_transform(df[\"ContentSentimentSmall\"])"
   ]
  },
  {
   "cell_type": "code",
   "execution_count": 48,
   "metadata": {},
   "outputs": [
    {
     "data": {
      "text/plain": [
       "DecisionTreeClassifier(class_weight=None, criterion='gini', max_depth=None,\n",
       "            max_features=None, max_leaf_nodes=None,\n",
       "            min_impurity_split=1e-07, min_samples_leaf=1,\n",
       "            min_samples_split=2, min_weight_fraction_leaf=0.0,\n",
       "            presort=False, random_state=0, splitter='best')"
      ]
     },
     "execution_count": 48,
     "metadata": {},
     "output_type": "execute_result"
    }
   ],
   "source": [
    "from sklearn.datasets import load_iris\n",
    "from sklearn.model_selection import cross_val_score\n",
    "from sklearn.tree import DecisionTreeClassifier\n",
    "clf = DecisionTreeClassifier(random_state=0)\n",
    "clf.fit(X_encoded[:, None], df[\"ZeroBasedRealBinsPlus\"])"
   ]
  },
  {
   "cell_type": "code",
   "execution_count": 102,
   "metadata": {
    "scrolled": false
   },
   "outputs": [
    {
     "ename": "ValueError",
     "evalue": "y contains new labels: ['Negative' 'Positive']",
     "traceback": [
      "\u001b[0;31m---------------------------------------------------------------------------\u001b[0m",
      "\u001b[0;31mValueError\u001b[0m                                Traceback (most recent call last)",
      "\u001b[0;32m<ipython-input-102-870ced121b81>\u001b[0m in \u001b[0;36m<module>\u001b[0;34m()\u001b[0m\n\u001b[1;32m     16\u001b[0m \u001b[0mlabels\u001b[0m \u001b[0;34m=\u001b[0m \u001b[0mle\u001b[0m\u001b[0;34m.\u001b[0m\u001b[0mtransform\u001b[0m\u001b[0;34m(\u001b[0m\u001b[0mlabels\u001b[0m\u001b[0;34m)\u001b[0m\u001b[0;34m\u001b[0m\u001b[0m\n\u001b[1;32m     17\u001b[0m \u001b[0mle\u001b[0m\u001b[0;34m.\u001b[0m\u001b[0mfit\u001b[0m\u001b[0;34m(\u001b[0m\u001b[0mfeature_names\u001b[0m\u001b[0;34m)\u001b[0m\u001b[0;34m\u001b[0m\u001b[0m\n\u001b[0;32m---> 18\u001b[0;31m \u001b[0mfeatures\u001b[0m \u001b[0;34m=\u001b[0m \u001b[0mnp\u001b[0m\u001b[0;34m.\u001b[0m\u001b[0marray\u001b[0m\u001b[0;34m(\u001b[0m\u001b[0mle\u001b[0m\u001b[0;34m.\u001b[0m\u001b[0mtransform\u001b[0m\u001b[0;34m(\u001b[0m\u001b[0mfeatures\u001b[0m\u001b[0;34m)\u001b[0m\u001b[0;34m)\u001b[0m\u001b[0;34m.\u001b[0m\u001b[0mreshape\u001b[0m\u001b[0;34m(\u001b[0m\u001b[0;34m-\u001b[0m\u001b[0;36m1\u001b[0m\u001b[0;34m,\u001b[0m\u001b[0;36m1\u001b[0m\u001b[0;34m)\u001b[0m\u001b[0;34m\u001b[0m\u001b[0m\n\u001b[0m\u001b[1;32m     19\u001b[0m \u001b[0;34m\u001b[0m\u001b[0m\n\u001b[1;32m     20\u001b[0m \u001b[0mprint\u001b[0m\u001b[0;34m(\u001b[0m\u001b[0mnp\u001b[0m\u001b[0;34m.\u001b[0m\u001b[0mshape\u001b[0m\u001b[0;34m(\u001b[0m\u001b[0mlabels\u001b[0m\u001b[0;34m)\u001b[0m\u001b[0;34m)\u001b[0m\u001b[0;34m\u001b[0m\u001b[0m\n",
      "\u001b[0;32m/Users/asgerarnbjornthyregod/anaconda/lib/python3.6/site-packages/sklearn/preprocessing/label.py\u001b[0m in \u001b[0;36mtransform\u001b[0;34m(self, y)\u001b[0m\n\u001b[1;32m    151\u001b[0m         \u001b[0;32mif\u001b[0m \u001b[0mlen\u001b[0m\u001b[0;34m(\u001b[0m\u001b[0mnp\u001b[0m\u001b[0;34m.\u001b[0m\u001b[0mintersect1d\u001b[0m\u001b[0;34m(\u001b[0m\u001b[0mclasses\u001b[0m\u001b[0;34m,\u001b[0m \u001b[0mself\u001b[0m\u001b[0;34m.\u001b[0m\u001b[0mclasses_\u001b[0m\u001b[0;34m)\u001b[0m\u001b[0;34m)\u001b[0m \u001b[0;34m<\u001b[0m \u001b[0mlen\u001b[0m\u001b[0;34m(\u001b[0m\u001b[0mclasses\u001b[0m\u001b[0;34m)\u001b[0m\u001b[0;34m:\u001b[0m\u001b[0;34m\u001b[0m\u001b[0m\n\u001b[1;32m    152\u001b[0m             \u001b[0mdiff\u001b[0m \u001b[0;34m=\u001b[0m \u001b[0mnp\u001b[0m\u001b[0;34m.\u001b[0m\u001b[0msetdiff1d\u001b[0m\u001b[0;34m(\u001b[0m\u001b[0mclasses\u001b[0m\u001b[0;34m,\u001b[0m \u001b[0mself\u001b[0m\u001b[0;34m.\u001b[0m\u001b[0mclasses_\u001b[0m\u001b[0;34m)\u001b[0m\u001b[0;34m\u001b[0m\u001b[0m\n\u001b[0;32m--> 153\u001b[0;31m             \u001b[0;32mraise\u001b[0m \u001b[0mValueError\u001b[0m\u001b[0;34m(\u001b[0m\u001b[0;34m\"y contains new labels: %s\"\u001b[0m \u001b[0;34m%\u001b[0m \u001b[0mstr\u001b[0m\u001b[0;34m(\u001b[0m\u001b[0mdiff\u001b[0m\u001b[0;34m)\u001b[0m\u001b[0;34m)\u001b[0m\u001b[0;34m\u001b[0m\u001b[0m\n\u001b[0m\u001b[1;32m    154\u001b[0m         \u001b[0;32mreturn\u001b[0m \u001b[0mnp\u001b[0m\u001b[0;34m.\u001b[0m\u001b[0msearchsorted\u001b[0m\u001b[0;34m(\u001b[0m\u001b[0mself\u001b[0m\u001b[0;34m.\u001b[0m\u001b[0mclasses_\u001b[0m\u001b[0;34m,\u001b[0m \u001b[0my\u001b[0m\u001b[0;34m)\u001b[0m\u001b[0;34m\u001b[0m\u001b[0m\n\u001b[1;32m    155\u001b[0m \u001b[0;34m\u001b[0m\u001b[0m\n",
      "\u001b[0;31mValueError\u001b[0m: y contains new labels: ['Negative' 'Positive']"
     ],
     "output_type": "error"
    }
   ],
   "source": [
    "from sklearn.datasets import load_breast_cancer\n",
    "from sklearn.model_selection import train_test_split\n",
    "from sklearn.naive_bayes import GaussianNB\n",
    "from sklearn.metrics import accuracy_score\n",
    "import numpy as np\n",
    "from sklearn import preprocessing\n",
    "\n",
    "# Organize our data\n",
    "label_names = df.ZeroBasedRealBins.unique()\n",
    "labels = df['ZeroBasedRealBins'].tolist()\n",
    "feature_names = df.ContentSentimentSmall.unique()\n",
    "features = df[\"ContentSentimentUD\"].tolist()\n",
    "\n",
    "le = preprocessing.LabelEncoder()\n",
    "le.fit(label_names)\n",
    "labels = le.transform(labels)\n",
    "le.fit(feature_names)\n",
    "features = np.array(le.transform(features)).reshape(-1,1)\n",
    "\n",
    "print(np.shape(labels))\n",
    "print(np.shape(features))\n",
    "# Look at our data\n",
    "print(label_names)\n",
    "#print('Class label = ', labels[0])\n",
    "print(feature_names)\n",
    "#print(features[0])\n",
    "\n",
    "# Split our data\n",
    "train, test, train_labels, test_labels = train_test_split(features,\n",
    "                                                          labels,\n",
    "                                                          test_size=0.33,\n",
    "                                                          random_state=42)\n",
    "\n",
    "# Initialize our classifier\n",
    "gnb = GaussianNB()\n",
    "\n",
    "# Train our classifier\n",
    "model = gnb.fit(train, train_labels)\n",
    "\n",
    "# Make predictions\n",
    "preds = gnb.predict(test)\n",
    "print(preds)\n",
    "\n",
    "# Evaluate accuracy\n",
    "print(accuracy_score(test_labels, preds))"
   ]
  },
  {
   "cell_type": "code",
   "execution_count": 12,
   "metadata": {
    "collapsed": true
   },
   "outputs": [],
   "source": [
    "distributionCount = pd.value_counts(df['ZeroBasedRealBinsPlus'].values, sort=True)\n",
    "print(distributionCount)\n",
    "distributionCount.plot(kind='bar')\n",
    "plt.show()\\"
   ]
  },
  {
   "cell_type": "code",
   "execution_count": 101,
   "metadata": {},
   "outputs": [
    {
     "name": "stdout",
     "output_type": "stream",
     "text": [
      "Positive    19520\n",
      "Negative     9647\n",
      "Neutral      1500\n",
      "dtype: int64\n"
     ]
    },
    {
     "data": {
      "image/png": "[encoded data removed]",
      "text/plain": [
       "<matplotlib.figure.Figure at 0x123c17da0>"
      ]
     },
     "metadata": {},
     "output_type": "display_data"
    }
   ],
   "source": [
    "distributionCount = pd.value_counts(df['ContentSentimentUD'].values, sort=True)\n",
    "print(distributionCount)\n",
    "distributionCount.plot(kind='bar')\n",
    "plt.show()\\"
   ]
  },
  {
   "cell_type": "code",
   "execution_count": 125,
   "metadata": {
    "collapsed": true
   },
   "outputs": [],
   "source": [
    "writer = pd.ExcelWriter('../Data/DataReadyForClassifier/SentimentMasterData.xlsx', engine='xlsxwriter', options={'strings_to_urls': False})\n",
    "df.to_excel(writer, 'Sheet1')\n",
    "writer.save()"
   ]
  },
  {
   "cell_type": "code",
   "execution_count": 126,
   "metadata": {
    "collapsed": true
   },
   "outputs": [],
   "source": [
    "df.to_csv('../Data/DataReadyForClassifier/SentimentMasterData.csv')"
   ]
  },
  {
   "cell_type": "code",
   "execution_count": null,
   "metadata": {
    "collapsed": true
   },
   "outputs": [],
   "source": []
  }
 ],
 "metadata": {
  "kernelspec": {
   "display_name": "Python 3",
   "language": "python",
   "name": "python3"
  }
 },
 "nbformat": 4,
 "nbformat_minor": 2
}
